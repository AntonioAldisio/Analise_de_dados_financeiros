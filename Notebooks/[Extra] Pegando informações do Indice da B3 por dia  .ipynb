{
 "cells": [
  {
   "cell_type": "code",
   "execution_count": 1,
   "metadata": {},
   "outputs": [],
   "source": [
    "import pandas as pd\n",
    "import matplotlib.pyplot as plt\n",
    "import seaborn as sns\n"
   ]
  },
  {
   "cell_type": "code",
   "execution_count": 2,
   "metadata": {},
   "outputs": [],
   "source": [
    "url = ('http://bvmf.bmfbovespa.com.br/indices/ResumoCarteiraTeorica.aspx?Indice=IBOV&idioma=pt-br')\n",
    "dados = pd.read_html(url)"
   ]
  },
  {
   "cell_type": "code",
   "execution_count": 3,
   "metadata": {},
   "outputs": [],
   "source": [
    "df = dados[0]\n",
    "df['Part. (%)'] = df['Part. (%)'] / 1000 # Ajuste para a porcentagem certa"
   ]
  },
  {
   "cell_type": "code",
   "execution_count": 4,
   "metadata": {},
   "outputs": [
    {
     "name": "stdout",
     "output_type": "stream",
     "text": [
      "Não tem informaçōes duplicadas, pode seguir\n"
     ]
    }
   ],
   "source": [
    "unicos_codigos = df['Código'].unique()\n",
    "verificacao = len(df['Código']) == len(unicos_codigos)\n",
    "\n",
    "if verificacao == True:\n",
    "    print('Não tem informaçōes duplicadas, pode seguir')\n",
    "else:\n",
    "    print('Não use esse dados')"
   ]
  },
  {
   "cell_type": "code",
   "execution_count": 5,
   "metadata": {},
   "outputs": [
    {
     "data": {
      "text/html": [
       "<div>\n",
       "<style scoped>\n",
       "    .dataframe tbody tr th:only-of-type {\n",
       "        vertical-align: middle;\n",
       "    }\n",
       "\n",
       "    .dataframe tbody tr th {\n",
       "        vertical-align: top;\n",
       "    }\n",
       "\n",
       "    .dataframe thead th {\n",
       "        text-align: right;\n",
       "    }\n",
       "</style>\n",
       "<table border=\"1\" class=\"dataframe\">\n",
       "  <thead>\n",
       "    <tr style=\"text-align: right;\">\n",
       "      <th></th>\n",
       "      <th>Código</th>\n",
       "      <th>Ação</th>\n",
       "      <th>Tipo</th>\n",
       "      <th>Qtde. Teórica</th>\n",
       "      <th>Part. (%)</th>\n",
       "    </tr>\n",
       "  </thead>\n",
       "  <tbody>\n",
       "    <tr>\n",
       "      <th>0</th>\n",
       "      <td>ABEV3</td>\n",
       "      <td>AMBEV S/A</td>\n",
       "      <td>ON</td>\n",
       "      <td>4.354.228.928</td>\n",
       "      <td>2.994</td>\n",
       "    </tr>\n",
       "    <tr>\n",
       "      <th>1</th>\n",
       "      <td>AZUL4</td>\n",
       "      <td>AZUL</td>\n",
       "      <td>PN N2</td>\n",
       "      <td>317.471.474</td>\n",
       "      <td>0.376</td>\n",
       "    </tr>\n",
       "    <tr>\n",
       "      <th>2</th>\n",
       "      <td>B3SA3</td>\n",
       "      <td>B3</td>\n",
       "      <td>ON NM</td>\n",
       "      <td>2.046.021.644</td>\n",
       "      <td>6.825</td>\n",
       "    </tr>\n",
       "    <tr>\n",
       "      <th>3</th>\n",
       "      <td>BBAS3</td>\n",
       "      <td>BRASIL</td>\n",
       "      <td>ON EJ NM</td>\n",
       "      <td>1.418.466.803</td>\n",
       "      <td>2.544</td>\n",
       "    </tr>\n",
       "    <tr>\n",
       "      <th>4</th>\n",
       "      <td>BBDC3</td>\n",
       "      <td>BRADESCO</td>\n",
       "      <td>ON N1</td>\n",
       "      <td>1.253.093.907</td>\n",
       "      <td>1.325</td>\n",
       "    </tr>\n",
       "  </tbody>\n",
       "</table>\n",
       "</div>"
      ],
      "text/plain": [
       "  Código       Ação      Tipo  Qtde. Teórica  Part. (%)\n",
       "0  ABEV3  AMBEV S/A        ON  4.354.228.928      2.994\n",
       "1  AZUL4       AZUL     PN N2    317.471.474      0.376\n",
       "2  B3SA3         B3     ON NM  2.046.021.644      6.825\n",
       "3  BBAS3     BRASIL  ON EJ NM  1.418.466.803      2.544\n",
       "4  BBDC3   BRADESCO     ON N1  1.253.093.907      1.325"
      ]
     },
     "execution_count": 5,
     "metadata": {},
     "output_type": "execute_result"
    }
   ],
   "source": [
    "df.head()"
   ]
  },
  {
   "cell_type": "code",
   "execution_count": 6,
   "metadata": {},
   "outputs": [],
   "source": [
    "df.sort_values(['Part. (%)'], ascending=False, inplace = True)\n",
    "df.drop(labels = 75, inplace = True)"
   ]
  },
  {
   "cell_type": "code",
   "execution_count": 7,
   "metadata": {},
   "outputs": [
    {
     "data": {
      "text/html": [
       "<div>\n",
       "<style scoped>\n",
       "    .dataframe tbody tr th:only-of-type {\n",
       "        vertical-align: middle;\n",
       "    }\n",
       "\n",
       "    .dataframe tbody tr th {\n",
       "        vertical-align: top;\n",
       "    }\n",
       "\n",
       "    .dataframe thead th {\n",
       "        text-align: right;\n",
       "    }\n",
       "</style>\n",
       "<table border=\"1\" class=\"dataframe\">\n",
       "  <thead>\n",
       "    <tr style=\"text-align: right;\">\n",
       "      <th></th>\n",
       "      <th>Código</th>\n",
       "      <th>Ação</th>\n",
       "      <th>Tipo</th>\n",
       "      <th>Qtde. Teórica</th>\n",
       "      <th>Part. (%)</th>\n",
       "    </tr>\n",
       "  </thead>\n",
       "  <tbody>\n",
       "    <tr>\n",
       "      <th>70</th>\n",
       "      <td>VALE3</td>\n",
       "      <td>VALE</td>\n",
       "      <td>ON NM</td>\n",
       "      <td>3.292.010.807</td>\n",
       "      <td>10.941</td>\n",
       "    </tr>\n",
       "    <tr>\n",
       "      <th>2</th>\n",
       "      <td>B3SA3</td>\n",
       "      <td>B3</td>\n",
       "      <td>ON NM</td>\n",
       "      <td>2.046.021.644</td>\n",
       "      <td>6.825</td>\n",
       "    </tr>\n",
       "    <tr>\n",
       "      <th>44</th>\n",
       "      <td>ITUB4</td>\n",
       "      <td>ITAUUNIBANCO</td>\n",
       "      <td>PN EJ N1</td>\n",
       "      <td>4.738.562.684</td>\n",
       "      <td>6.211</td>\n",
       "    </tr>\n",
       "    <tr>\n",
       "      <th>56</th>\n",
       "      <td>PETR4</td>\n",
       "      <td>PETROBRAS</td>\n",
       "      <td>PN N2</td>\n",
       "      <td>4.520.185.835</td>\n",
       "      <td>5.576</td>\n",
       "    </tr>\n",
       "    <tr>\n",
       "      <th>5</th>\n",
       "      <td>BBDC4</td>\n",
       "      <td>BRADESCO</td>\n",
       "      <td>PN N1</td>\n",
       "      <td>4.261.649.634</td>\n",
       "      <td>4.866</td>\n",
       "    </tr>\n",
       "  </tbody>\n",
       "</table>\n",
       "</div>"
      ],
      "text/plain": [
       "   Código          Ação      Tipo  Qtde. Teórica  Part. (%)\n",
       "70  VALE3          VALE     ON NM  3.292.010.807     10.941\n",
       "2   B3SA3            B3     ON NM  2.046.021.644      6.825\n",
       "44  ITUB4  ITAUUNIBANCO  PN EJ N1  4.738.562.684      6.211\n",
       "56  PETR4     PETROBRAS     PN N2  4.520.185.835      5.576\n",
       "5   BBDC4      BRADESCO     PN N1  4.261.649.634      4.866"
      ]
     },
     "execution_count": 7,
     "metadata": {},
     "output_type": "execute_result"
    }
   ],
   "source": [
    "df.head()"
   ]
  },
  {
   "cell_type": "code",
   "execution_count": 12,
   "metadata": {},
   "outputs": [],
   "source": [
    "selecao = df['Tipo'] == 'ON NM'\n",
    "acoes_ordinarios = df[selecao]\n",
    "dez_primieras_on = acoes_ordinarios.head(10)"
   ]
  },
  {
   "cell_type": "code",
   "execution_count": 16,
   "metadata": {},
   "outputs": [
    {
     "data": {
      "text/html": [
       "<div>\n",
       "<style scoped>\n",
       "    .dataframe tbody tr th:only-of-type {\n",
       "        vertical-align: middle;\n",
       "    }\n",
       "\n",
       "    .dataframe tbody tr th {\n",
       "        vertical-align: top;\n",
       "    }\n",
       "\n",
       "    .dataframe thead th {\n",
       "        text-align: right;\n",
       "    }\n",
       "</style>\n",
       "<table border=\"1\" class=\"dataframe\">\n",
       "  <thead>\n",
       "    <tr style=\"text-align: right;\">\n",
       "      <th></th>\n",
       "      <th>Código</th>\n",
       "      <th>Ação</th>\n",
       "      <th>Tipo</th>\n",
       "      <th>Qtde. Teórica</th>\n",
       "      <th>Part. (%)</th>\n",
       "    </tr>\n",
       "  </thead>\n",
       "  <tbody>\n",
       "    <tr>\n",
       "      <th>70</th>\n",
       "      <td>VALE3</td>\n",
       "      <td>VALE</td>\n",
       "      <td>ON NM</td>\n",
       "      <td>3.292.010.807</td>\n",
       "      <td>10.941</td>\n",
       "    </tr>\n",
       "    <tr>\n",
       "      <th>2</th>\n",
       "      <td>B3SA3</td>\n",
       "      <td>B3</td>\n",
       "      <td>ON NM</td>\n",
       "      <td>2.046.021.644</td>\n",
       "      <td>6.825</td>\n",
       "    </tr>\n",
       "    <tr>\n",
       "      <th>49</th>\n",
       "      <td>MGLU3</td>\n",
       "      <td>MAGAZ LUIZA</td>\n",
       "      <td>ON NM</td>\n",
       "      <td>661.834.080</td>\n",
       "      <td>3.141</td>\n",
       "    </tr>\n",
       "    <tr>\n",
       "      <th>73</th>\n",
       "      <td>WEGE3</td>\n",
       "      <td>WEG</td>\n",
       "      <td>ON NM</td>\n",
       "      <td>689.271.972</td>\n",
       "      <td>2.539</td>\n",
       "    </tr>\n",
       "    <tr>\n",
       "      <th>45</th>\n",
       "      <td>JBSS3</td>\n",
       "      <td>JBS</td>\n",
       "      <td>ON NM</td>\n",
       "      <td>1.620.646.499</td>\n",
       "      <td>2.079</td>\n",
       "    </tr>\n",
       "    <tr>\n",
       "      <th>64</th>\n",
       "      <td>SUZB3</td>\n",
       "      <td>SUZANO S.A.</td>\n",
       "      <td>ON NM</td>\n",
       "      <td>725.859.318</td>\n",
       "      <td>2.001</td>\n",
       "    </tr>\n",
       "    <tr>\n",
       "      <th>53</th>\n",
       "      <td>NTCO3</td>\n",
       "      <td>GRUPO NATURA</td>\n",
       "      <td>ON NM</td>\n",
       "      <td>706.484.775</td>\n",
       "      <td>1.891</td>\n",
       "    </tr>\n",
       "    <tr>\n",
       "      <th>48</th>\n",
       "      <td>LREN3</td>\n",
       "      <td>LOJAS RENNER</td>\n",
       "      <td>ON NM</td>\n",
       "      <td>785.308.019</td>\n",
       "      <td>1.855</td>\n",
       "    </tr>\n",
       "    <tr>\n",
       "      <th>35</th>\n",
       "      <td>GNDI3</td>\n",
       "      <td>INTERMEDICA</td>\n",
       "      <td>ON NM</td>\n",
       "      <td>458.380.483</td>\n",
       "      <td>1.746</td>\n",
       "    </tr>\n",
       "    <tr>\n",
       "      <th>72</th>\n",
       "      <td>VVAR3</td>\n",
       "      <td>VIAVAREJO</td>\n",
       "      <td>ON NM</td>\n",
       "      <td>1.443.662.628</td>\n",
       "      <td>1.612</td>\n",
       "    </tr>\n",
       "  </tbody>\n",
       "</table>\n",
       "</div>"
      ],
      "text/plain": [
       "   Código          Ação   Tipo  Qtde. Teórica  Part. (%)\n",
       "70  VALE3          VALE  ON NM  3.292.010.807     10.941\n",
       "2   B3SA3            B3  ON NM  2.046.021.644      6.825\n",
       "49  MGLU3   MAGAZ LUIZA  ON NM    661.834.080      3.141\n",
       "73  WEGE3           WEG  ON NM    689.271.972      2.539\n",
       "45  JBSS3           JBS  ON NM  1.620.646.499      2.079\n",
       "64  SUZB3   SUZANO S.A.  ON NM    725.859.318      2.001\n",
       "53  NTCO3  GRUPO NATURA  ON NM    706.484.775      1.891\n",
       "48  LREN3  LOJAS RENNER  ON NM    785.308.019      1.855\n",
       "35  GNDI3   INTERMEDICA  ON NM    458.380.483      1.746\n",
       "72  VVAR3     VIAVAREJO  ON NM  1.443.662.628      1.612"
      ]
     },
     "execution_count": 16,
     "metadata": {},
     "output_type": "execute_result"
    }
   ],
   "source": [
    "dez_primieras_on"
   ]
  },
  {
   "cell_type": "code",
   "execution_count": 20,
   "metadata": {},
   "outputs": [],
   "source": [
    "dez_primieras_on.to_csv('../dados/dez_primeiros_on_do_index_bovespa', index = False)"
   ]
  }
 ],
 "metadata": {
  "kernelspec": {
   "display_name": "Python 3",
   "language": "python",
   "name": "python3"
  },
  "language_info": {
   "codemirror_mode": {
    "name": "ipython",
    "version": 3
   },
   "file_extension": ".py",
   "mimetype": "text/x-python",
   "name": "python",
   "nbconvert_exporter": "python",
   "pygments_lexer": "ipython3",
   "version": "3.8.2"
  }
 },
 "nbformat": 4,
 "nbformat_minor": 4
}
